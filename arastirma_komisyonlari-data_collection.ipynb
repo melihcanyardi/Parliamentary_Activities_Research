{
 "cells": [
  {
   "cell_type": "markdown",
   "id": "bebe7a1a",
   "metadata": {},
   "source": [
    "# Araştırma Komisyonları - Data Collection"
   ]
  },
  {
   "cell_type": "code",
   "execution_count": 1,
   "id": "90646058",
   "metadata": {},
   "outputs": [],
   "source": [
    "from selenium import webdriver\n",
    "from selenium.webdriver.common.by import By\n",
    "from selenium.webdriver.support.ui import Select\n",
    "from selenium.common.exceptions import NoSuchElementException\n",
    "\n",
    "import pandas as pd\n",
    "import time\n",
    "import os\n",
    "import csv"
   ]
  },
  {
   "cell_type": "code",
   "execution_count": 2,
   "id": "5fc6c263",
   "metadata": {},
   "outputs": [],
   "source": [
    "driver = webdriver.Chrome()\n",
    "driver.implicitly_wait(30)"
   ]
  },
  {
   "cell_type": "markdown",
   "id": "dc4283e1",
   "metadata": {},
   "source": [
    "## Araştırma Komisyonları\n",
    "\n",
    "- source_page: https://www.tbmm.gov.tr/Denetim/Gecmis-Donem-Meclis-Arastirma-Komisyonlari\n",
    "- donem_values:\n",
    "    - 22. Dönem Tüm Yasama Yılları: **221, 222, 223, 224, 225**\n",
    "    - 23. Dönem Tüm Yasama Yılları: **231, 232, 234, 235**\n",
    "    - 24. Dönem Tüm Yasama Yılları: **241, 242, 243, 244, 245**\n",
    "    - 25. Dönem Tüm Yasama Yılları: **251, 252**\n",
    "    - 26. Dönem Tüm Yasama Yılları: **261, 262, 263**\n",
    "- select_donem (Dönemi ve Yasama Yılı) XPATH: //*[@id=\"DonemYasamaYili\"]\n",
    "- input_search (Sorguyu Başlat) XPATH: //*[@id=\"main-area\"]/form/div[5]/div/input"
   ]
  },
  {
   "cell_type": "code",
   "execution_count": 3,
   "id": "d7fa290c",
   "metadata": {},
   "outputs": [],
   "source": [
    "def get_sonuc_page(source_page, donem):\n",
    "\n",
    "    # Open source page\n",
    "    driver.get(source_page)\n",
    "    \n",
    "    # Select Dönem\n",
    "    select_donem = Select(driver.find_element(By.XPATH, \"\"\"//*[@id=\"DonemYasamaYili\"]\"\"\"))\n",
    "    donem = str(donem)\n",
    "    select_donem.select_by_value(donem)\n",
    "    \n",
    "    # Find \"Sorguyu Başlat\" button\n",
    "    input_search = driver.find_element(By.XPATH, \"\"\"//*[@id=\"main-area\"]/form/div[5]/div/input\"\"\")\n",
    "\n",
    "    # Click \"Sorguyu Başlat\" button\n",
    "    input_search.click()\n",
    "    \n",
    "    # Get total page size\n",
    "    pagination = driver.find_element(By.XPATH, \"\"\"//*[@id=\"dataTable_paginate\"]/ul\"\"\")\n",
    "    pagination_elements = pagination.find_elements(By.TAG_NAME, \"li\")\n",
    "    \n",
    "    # if there are no records:\n",
    "    if len(pagination_elements) == 2:\n",
    "        page_size = 0\n",
    "    # if there is one page\n",
    "    elif len(pagination_elements) == 3:\n",
    "        page_size = 1\n",
    "    # if there are two pages:\n",
    "    elif len(pagination_elements) == 4:\n",
    "        page_size = 2\n",
    "    # if there are more than two pages\n",
    "    else:\n",
    "        page_size = int(pagination_elements[-2].text)\n",
    "    \n",
    "    return page_size"
   ]
  },
  {
   "cell_type": "code",
   "execution_count": 4,
   "id": "76ab1415",
   "metadata": {},
   "outputs": [],
   "source": [
    "def collect_urls():\n",
    "    \n",
    "    urls = []\n",
    "    komisyon_adlari = []\n",
    "    donemler = []\n",
    "    \n",
    "    \n",
    "    # Find table\n",
    "    table = driver.find_element(By.XPATH, \"\"\"//*[@id=\"dataTable\"]/tbody\"\"\")\n",
    "    \n",
    "    # Get rows of table\n",
    "    rows = None\n",
    "    while rows is None:\n",
    "        try:\n",
    "            rows = table.find_elements(By.TAG_NAME, \"tr\")\n",
    "        except:\n",
    "            pass\n",
    "        \n",
    "    for i, row in enumerate(rows):\n",
    "        komisyon_adi = row.find_element(By.CLASS_NAME, \"onerge-ozeti\").text.split(\"\\n\")[0]\n",
    "        komisyon_adlari.append(komisyon_adi)\n",
    "        \n",
    "        donem = row.find_elements(By.TAG_NAME, \"td\")[0].text.split(\"/\")[0]\n",
    "        donemler.append(donem)\n",
    "        \n",
    "        a_tags = row.find_elements(By.TAG_NAME, \"td\")[2].find_elements(By.TAG_NAME, \"a\")\n",
    "        if len(a_tags) == 2:\n",
    "            urls.append(a_tags[0].get_attribute(\"href\"))\n",
    "        else:\n",
    "            urls.append(\"\")\n",
    "    return komisyon_adlari, donemler, urls"
   ]
  },
  {
   "cell_type": "code",
   "execution_count": 5,
   "id": "c5499395",
   "metadata": {},
   "outputs": [],
   "source": [
    "donemler = [221, 222, 223, 224, 225, 231, 232, 234, 235, 241, 242, 243, 244, 245, 251, 252, 261, 262, 263]\n",
    "source_page = \"https://www.tbmm.gov.tr/Denetim/Gecmis-Donem-Meclis-Arastirma-Komisyonlari\""
   ]
  },
  {
   "cell_type": "code",
   "execution_count": 6,
   "id": "2e23a90d",
   "metadata": {
    "scrolled": true
   },
   "outputs": [
    {
     "name": "stdout",
     "output_type": "stream",
     "text": [
      "Dönem: 221 | Page Size: 1 ... Completed!\n",
      "Dönem: 222 | Page Size: 1 ... Completed!\n",
      "Dönem: 223 | Page Size: 1 ... Completed!\n",
      "Dönem: 224 | Page Size: 1 ... Completed!\n",
      "Dönem: 225 | Page Size: 1 ... Completed!\n",
      "Dönem: 231 | Page Size: 0 ... Completed!\n",
      "Dönem: 232 | Page Size: 1 ... Completed!\n",
      "Dönem: 234 | Page Size: 1 ... Completed!\n",
      "Dönem: 235 | Page Size: 1 ... Completed!\n",
      "Dönem: 241 | Page Size: 0 ... Completed!\n",
      "Dönem: 242 | Page Size: 1 ... Completed!\n",
      "Dönem: 243 | Page Size: 1 ... Completed!\n",
      "Dönem: 244 | Page Size: 1 ... Completed!\n",
      "Dönem: 245 | Page Size: 1 ... Completed!\n",
      "Dönem: 251 | Page Size: 0 ... Completed!\n",
      "Dönem: 252 | Page Size: 0 ... Completed!\n",
      "Dönem: 261 | Page Size: 1 ... Completed!\n",
      "Dönem: 262 | Page Size: 1 ... Completed!\n",
      "Dönem: 263 | Page Size: 1 ... Completed!\n"
     ]
    }
   ],
   "source": [
    "# Create \"arastirma_komisyonlari\" folder if not exists\n",
    "if \"arastirma_komisyonlari\" not in os.listdir():\n",
    "    os.mkdir(\"arastirma_komisyonlari\")\n",
    "\n",
    "# Create csv file and headers\n",
    "pd.DataFrame(columns=[\"komisyon\", \"donem\", \"url\"]).to_csv(f\"arastirma_komisyonlari/arastirma_komisyonlari.csv\",\n",
    "                                                   mode=\"w\", index=False)\n",
    "\n",
    "# Create urls folder if not exists\n",
    "if \"urls\" not in os.listdir():\n",
    "    os.mkdir(\"urls\")\n",
    "\n",
    "# Write urls to txt file\n",
    "with open(\"urls/arastirma_komisyonlari_urls.txt\", \"a+\", encoding=\"UTF-8\") as url_file, open(\"arastirma_komisyonlari/arastirma_komisyonlari.csv\", \"a+\", encoding=\"UTF-8\") as komisyon_adi_url_file:\n",
    "    for donem in donemler:\n",
    "        # Get sonuc page & page size\n",
    "        page_size = get_sonuc_page(source_page, donem)\n",
    "        print(f\"Dönem: {donem} | Page Size: {page_size} ... \", end=\"\")\n",
    "    \n",
    "        page = 1\n",
    "        \n",
    "        while page <= page_size:\n",
    "            try:\n",
    "                time.sleep(1)\n",
    "                # Collect urls & komisyon adlari in the page\n",
    "                komisyon_adlari, donem_list, urls = collect_urls()\n",
    "                for url in urls:\n",
    "                    if url != \"\":\n",
    "                        url_file.write(f\"{url}\\n\")\n",
    "                csv_writer = csv.writer(komisyon_adi_url_file)\n",
    "                komisyon_zip = zip(komisyon_adlari, donem_list, urls)\n",
    "                for komisyon in komisyon_zip:\n",
    "                    csv_writer.writerow(komisyon)\n",
    "                \n",
    "                # Find \"Sonraki\" button\n",
    "                next_button = driver.find_element(By.XPATH, \"\"\"//*[@id=\"dataTable_next\"]\"\"\")\n",
    "                \n",
    "                # Click \"Sonraki\" button\n",
    "                next_button.click()\n",
    "                \n",
    "                page += 1\n",
    "                \n",
    "            except:\n",
    "                time.sleep(5)\n",
    "                continue\n",
    "        print(\"Completed!\")"
   ]
  },
  {
   "cell_type": "code",
   "execution_count": 7,
   "id": "7ef3d733",
   "metadata": {},
   "outputs": [],
   "source": [
    "# Read urls from txt file\n",
    "with open(\"urls/arastirma_komisyonlari_urls.txt\", \"r\") as f:\n",
    "    urls = [url.strip() for url in f.readlines()]"
   ]
  },
  {
   "cell_type": "code",
   "execution_count": 8,
   "id": "41881ec4",
   "metadata": {},
   "outputs": [],
   "source": [
    "# Add ID to arastirma_komisyonlari DataFrame\n",
    "arastirma_komisyonlari = pd.read_csv(\"arastirma_komisyonlari/arastirma_komisyonlari.csv\")\n",
    "arastirma_komisyonlari[\"id\"] = list(range(1, len(arastirma_komisyonlari)+1))\n",
    "arastirma_komisyonlari.to_csv(\"arastirma_komisyonlari/arastirma_komisyonlari.csv\", index=False)\n",
    "arastirma_komisyonlari = pd.read_csv(\"arastirma_komisyonlari/arastirma_komisyonlari.csv\")\n",
    "arastirma_komisyonlari = arastirma_komisyonlari.dropna().reset_index(drop=True)"
   ]
  },
  {
   "cell_type": "code",
   "execution_count": 9,
   "id": "be0236ca",
   "metadata": {},
   "outputs": [],
   "source": [
    "def get_uyeler(url):\n",
    "    \n",
    "    driver.get(url)\n",
    "    \n",
    "    uyeler_url = None\n",
    "    \n",
    "    sidebar_elements = driver.find_element(By.CLASS_NAME, \"blog_right_sidebar\").find_element(By.TAG_NAME, \"aside\").find_element(By.TAG_NAME, \"ul\").find_elements(By.TAG_NAME, \"li\")\n",
    "    for element in sidebar_elements:\n",
    "        if \"üye\" in element.text.lower():\n",
    "            uyeler_url = element.find_element(By.TAG_NAME, \"a\").get_attribute(\"href\")\n",
    "            \n",
    "    if uyeler_url == None:\n",
    "        return pd.DataFrame()\n",
    "    else:\n",
    "        driver.get(uyeler_url)\n",
    "\n",
    "        table = driver.find_element(By.TAG_NAME, \"table\")\n",
    "        rows = table.find_elements(By.TAG_NAME, \"tr\")\n",
    "        col_1 = []\n",
    "        col_2 = []\n",
    "        col_3 = []\n",
    "\n",
    "        for row in rows:\n",
    "            col_1.append(row.find_elements(By.TAG_NAME, \"td\")[0].text)\n",
    "            col_2.append(row.find_elements(By.TAG_NAME, \"td\")[1].text)\n",
    "            col_3.append(row.find_elements(By.TAG_NAME, \"td\")[2].text)\n",
    "\n",
    "        arastirma_komisyonu_uyeler = pd.concat([pd.Series(col_1), pd.Series(col_2), pd.Series(col_3)], axis=1)\n",
    "        arastirma_komisyonu_uyeler.columns = arastirma_komisyonu_uyeler.iloc[0]\n",
    "        arastirma_komisyonu_uyeler = arastirma_komisyonu_uyeler.drop(0).reset_index(drop=True)\n",
    "        return arastirma_komisyonu_uyeler"
   ]
  },
  {
   "cell_type": "code",
   "execution_count": 10,
   "id": "c78582ac",
   "metadata": {},
   "outputs": [],
   "source": [
    "# Create csv file and headers\n",
    "pd.DataFrame(columns=[\"adi_ve_soyadi\",\n",
    "                      \"unvan\",\n",
    "                      \"secim_bolgesi\",\n",
    "                      \"arastirma_komisyon_id\"]).to_csv(f\"arastirma_komisyonlari/arastirma_komisyonlari_uyeler.csv\",\n",
    "                                                   mode=\"w\", index=False)"
   ]
  },
  {
   "cell_type": "code",
   "execution_count": 11,
   "id": "5968d39a",
   "metadata": {},
   "outputs": [
    {
     "name": "stdout",
     "output_type": "stream",
     "text": [
      "0/43 | 0.00%\n",
      "5/43 | 11.63%\n",
      "10/43 | 23.26%\n",
      "15/43 | 34.88%\n",
      "20/43 | 46.51%\n",
      "25/43 | 58.14%\n",
      "30/43 | 69.77%\n",
      "35/43 | 81.40%\n",
      "40/43 | 93.02%\n",
      "43/43 | 100.00%\n"
     ]
    }
   ],
   "source": [
    "for i in range(len(arastirma_komisyonlari)):\n",
    "    if i % 5 == 0:\n",
    "        print(f\"{i}/{len(arastirma_komisyonlari)} | {(i)/len(arastirma_komisyonlari)*100:.2f}%\")\n",
    "    if \"%\" not in arastirma_komisyonlari.loc[i, \"url\"]:\n",
    "        arastirma_komisyonu_uyeler = get_uyeler(url)\n",
    "        arastirma_komisyonu_uyeler[\"arastirma_komisyon_id\"] = arastirma_komisyonlari.loc[i, \"id\"]\n",
    "        arastirma_komisyonu_uyeler.to_csv(f\"arastirma_komisyonlari/arastirma_komisyonlari_uyeler.csv\", mode=\"a+\", index=False, header=False)\n",
    "print(f\"{len(arastirma_komisyonlari)}/{len(arastirma_komisyonlari)} | {(len(arastirma_komisyonlari))/len(arastirma_komisyonlari)*100:.2f}%\")"
   ]
  },
  {
   "cell_type": "code",
   "execution_count": 12,
   "id": "739f3cea",
   "metadata": {},
   "outputs": [],
   "source": [
    "driver.quit()"
   ]
  }
 ],
 "metadata": {
  "kernelspec": {
   "display_name": "Python 3 (ipykernel)",
   "language": "python",
   "name": "python3"
  },
  "language_info": {
   "codemirror_mode": {
    "name": "ipython",
    "version": 3
   },
   "file_extension": ".py",
   "mimetype": "text/x-python",
   "name": "python",
   "nbconvert_exporter": "python",
   "pygments_lexer": "ipython3",
   "version": "3.9.7"
  }
 },
 "nbformat": 4,
 "nbformat_minor": 5
}
