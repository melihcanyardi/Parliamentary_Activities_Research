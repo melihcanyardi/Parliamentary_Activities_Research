{
 "cells": [
  {
   "cell_type": "markdown",
   "id": "bebe7a1a",
   "metadata": {},
   "source": [
    "# Kanun Teklifleri - Data Collection"
   ]
  },
  {
   "cell_type": "code",
   "execution_count": 1,
   "id": "90646058",
   "metadata": {},
   "outputs": [],
   "source": [
    "from selenium import webdriver\n",
    "from selenium.webdriver.common.by import By\n",
    "from selenium.webdriver.support.ui import Select\n",
    "from selenium.common.exceptions import NoSuchElementException\n",
    "\n",
    "import pandas as pd\n",
    "import time\n",
    "import os"
   ]
  },
  {
   "cell_type": "code",
   "execution_count": 2,
   "id": "5fc6c263",
   "metadata": {},
   "outputs": [],
   "source": [
    "driver = webdriver.Chrome()\n",
    "driver.implicitly_wait(30)"
   ]
  },
  {
   "cell_type": "markdown",
   "id": "dc4283e1",
   "metadata": {},
   "source": [
    "## Kanun Teklifleri\n",
    "\n",
    "- source_page: https://www.tbmm.gov.tr/Yasama/Gecmis-Kanun-Teklifleri\n",
    "- donem_values:\n",
    "    - 22. Dönem Tüm Yasama Yılları: **220**\n",
    "    - 23. Dönem Tüm Yasama Yılları: **230**\n",
    "    - 24. Dönem Tüm Yasama Yılları: **240**\n",
    "    - 25. Dönem Tüm Yasama Yılları: **250**\n",
    "    - 26. Dönem Tüm Yasama Yılları: **260**\n",
    "- select_donem (Dönemi ve Yasama Yılı) XPATH: //*[@id=\"DonemYasamaYili\"]\n",
    "- input_search (Sorguyu Başlat) XPATH: //*[@id=\"main-area\"]/form/div[10]/div/input"
   ]
  },
  {
   "cell_type": "code",
   "execution_count": 3,
   "id": "d7fa290c",
   "metadata": {},
   "outputs": [],
   "source": [
    "def get_sonuc_page(source_page, donem):\n",
    "\n",
    "    # Open source page\n",
    "    driver.get(source_page)\n",
    "    \n",
    "    # Select Dönem\n",
    "    select_donem = Select(driver.find_element(By.XPATH, \"\"\"//*[@id=\"DonemYasamaYili\"]\"\"\"))\n",
    "    donem = str(donem) + \"0\"\n",
    "    select_donem.select_by_value(donem)\n",
    "    \n",
    "    # Find \"Sorguyu Başlat\" button\n",
    "    input_search = driver.find_element(By.XPATH, \"\"\"//*[@id=\"main-area\"]/form/div[10]/div/input\"\"\")\n",
    "\n",
    "    # Click \"Sorguyu Başlat\" button\n",
    "    input_search.click()\n",
    "    \n",
    "    # Get total page size\n",
    "    pagination = driver.find_element(By.XPATH, \"\"\"//*[@id=\"dataTable_paginate\"]/ul\"\"\")\n",
    "    pagination_elements = pagination.find_elements(By.TAG_NAME, \"li\")\n",
    "    \n",
    "    # if there are no records:\n",
    "    if len(pagination_elements) == 2:\n",
    "        page_size = 0\n",
    "    # if there is one page\n",
    "    elif len(pagination_elements) == 3:\n",
    "        page_size = 1\n",
    "    # if there are two pages:\n",
    "    elif len(pagination_elements) == 4:\n",
    "        page_size = 2\n",
    "    # if there are more than two pages\n",
    "    else:\n",
    "        page_size = int(pagination_elements[-2].text)\n",
    "    \n",
    "    return page_size"
   ]
  },
  {
   "cell_type": "code",
   "execution_count": 4,
   "id": "76ab1415",
   "metadata": {},
   "outputs": [],
   "source": [
    "def collect_urls():\n",
    "    \n",
    "    urls = []\n",
    "    \n",
    "    # Find table\n",
    "    table = driver.find_element(By.XPATH, \"\"\"//*[@id=\"dataTable\"]/tbody\"\"\")\n",
    "    \n",
    "    # Get rows of table\n",
    "    rows = None\n",
    "    while rows is None:\n",
    "        try:\n",
    "            rows = table.find_elements(By.TAG_NAME, \"tr\")\n",
    "        except:\n",
    "            pass\n",
    "        \n",
    "    for i, row in enumerate(rows):\n",
    "        url = row.find_elements(By.TAG_NAME, \"td\")[3].find_elements(By.TAG_NAME, \"div\")[4].find_element(By.TAG_NAME, \"a\").get_attribute(\"href\")\n",
    "        urls.append(url)\n",
    "        \n",
    "    return urls"
   ]
  },
  {
   "cell_type": "code",
   "execution_count": 5,
   "id": "496f0f3e",
   "metadata": {},
   "outputs": [],
   "source": [
    "donemler = [22, 23, 24, 25, 26]\n",
    "source_page = \"https://www.tbmm.gov.tr/Yasama/Gecmis-Kanun-Teklifleri\""
   ]
  },
  {
   "cell_type": "code",
   "execution_count": 6,
   "id": "2e23a90d",
   "metadata": {
    "scrolled": true
   },
   "outputs": [
    {
     "name": "stdout",
     "output_type": "stream",
     "text": [
      "Dönem: 22 | Page Size: 49 ... Completed!\n",
      "Dönem: 23 | Page Size: 40 ... Completed!\n",
      "Dönem: 24 | Page Size: 78 ... Completed!\n",
      "Dönem: 25 | Page Size: 18 ... Completed!\n",
      "Dönem: 26 | Page Size: 67 ... Completed!\n"
     ]
    }
   ],
   "source": [
    "# Create urls folder if not exists\n",
    "if \"urls\" not in os.listdir():\n",
    "    os.mkdir(\"urls\")\n",
    "\n",
    "# Write urls to txt file\n",
    "with open(\"urls/kanun_teklifi_urls.txt\", \"a+\") as f:\n",
    "    for donem in donemler:\n",
    "        # Get sonuc page & page size\n",
    "        page_size = get_sonuc_page(source_page, donem)\n",
    "        print(f\"Dönem: {donem} | Page Size: {page_size} ... \", end=\"\")\n",
    "    \n",
    "        page = 1\n",
    "        \n",
    "        while page <= page_size:\n",
    "            try:\n",
    "                time.sleep(1)\n",
    "                # Collect urls in the page\n",
    "                for url in collect_urls():\n",
    "                    f.write(f\"{url}\\n\")\n",
    "                \n",
    "                # Find \"Sonraki\" button\n",
    "                next_button = driver.find_element(By.XPATH, \"\"\"//*[@id=\"dataTable_next\"]\"\"\")\n",
    "                \n",
    "                # Click \"Sonraki\" button\n",
    "                next_button.click()\n",
    "                \n",
    "                page += 1\n",
    "                \n",
    "            except:\n",
    "                time.sleep(5)\n",
    "                continue\n",
    "        print(\"Completed!\")"
   ]
  },
  {
   "cell_type": "code",
   "execution_count": 7,
   "id": "7ef3d733",
   "metadata": {},
   "outputs": [],
   "source": [
    "# Read urls from txt file\n",
    "with open(\"urls/kanun_teklifi_urls.txt\", \"r\") as f:\n",
    "    urls = [url.strip() for url in f.readlines()]"
   ]
  },
  {
   "cell_type": "code",
   "execution_count": 8,
   "id": "be0236ca",
   "metadata": {},
   "outputs": [],
   "source": [
    "def get_tables(url):\n",
    "    \n",
    "    driver.get(url)\n",
    "    \n",
    "    main_area = driver.find_element(By.XPATH, \"\"\"//*[@id=\"main-area\"]\"\"\")\n",
    "    \n",
    "    kanun_teklifi_bilgileri_df = pd.DataFrame()\n",
    "    kanun_teklifi_imza_sahipleri_df = pd.DataFrame()\n",
    "    \n",
    "    \n",
    "    for i in range(len(main_area.find_elements(By.TAG_NAME, \"div\"))):\n",
    "        if main_area.find_elements(By.TAG_NAME, \"span\")[i].text == \"Kanun Teklifi Bilgileri\":\n",
    "            kanun_teklifi_bilgileri = main_area.find_elements(By.TAG_NAME, \"div\")[i]\n",
    "            kanun_teklifi_bilgileri_tr_tags = kanun_teklifi_bilgileri.find_elements(By.TAG_NAME, \"tr\")\n",
    "            kanun_teklifi_bilgileri_df = pd.DataFrame(pd.Series({kanun_teklifi_bilgileri_tr_tags[i].find_elements(By.TAG_NAME, \"td\")[0].text: kanun_teklifi_bilgileri_tr_tags[i].find_elements(By.TAG_NAME, \"td\")[1].text for i in range(1, len(kanun_teklifi_bilgileri_tr_tags))})).T\n",
    "            kanun_teklifi_id = ''.join(kanun_teklifi_bilgileri_df.iloc[0, 0].split(\" / \") + kanun_teklifi_bilgileri_df.iloc[0, 1].split(\" / \"))\n",
    "            kanun_teklifi_bilgileri_df.columns = [\"donemi_ve_yasama_yili\", \"esas_numarasi\", \"baskanliga_gelis_tarihi\", \"teklifin_basligi\", \"teklifin_ozeti\", \"son_durumu\", \"teklifin_sonucu\"]\n",
    "            kanun_teklifi_bilgileri_df[\"kanun_teklifi_id\"] = kanun_teklifi_id\n",
    "            \n",
    "        if main_area.find_elements(By.TAG_NAME, \"span\")[i].text == \"Kanun Teklifi İmza Sahipleri\":\n",
    "            kanun_teklifi_imza_sahipleri = main_area.find_elements(By.TAG_NAME, \"div\")[i]\n",
    "            kanun_teklifi_imza_sahipleri_tr_tags = kanun_teklifi_imza_sahipleri.find_elements(By.TAG_NAME, \"tr\")\n",
    "\n",
    "            header = kanun_teklifi_imza_sahipleri_tr_tags[0].find_elements(By.TAG_NAME, \"th\")\n",
    "            header_items = [item.text for item in header]\n",
    "            header_items[-1] = \"İlk İmza\"\n",
    "\n",
    "            adi_ve_soyadi = [kanun_teklifi_imza_sahipleri_tr_tags[i].find_elements(By.TAG_NAME, \"td\")[0].text for i in range(1, len(kanun_teklifi_imza_sahipleri_tr_tags))]\n",
    "            partisi = [kanun_teklifi_imza_sahipleri_tr_tags[i].find_elements(By.TAG_NAME, \"td\")[1].text for i in range(1, len(kanun_teklifi_imza_sahipleri_tr_tags))]\n",
    "            secim_cevresi = [kanun_teklifi_imza_sahipleri_tr_tags[i].find_elements(By.TAG_NAME, \"td\")[2].text for i in range(1, len(kanun_teklifi_imza_sahipleri_tr_tags))]\n",
    "            ilk_imza = [kanun_teklifi_imza_sahipleri_tr_tags[i].find_elements(By.TAG_NAME, \"td\")[3].text for i in range(1, len(kanun_teklifi_imza_sahipleri_tr_tags))]\n",
    "\n",
    "            kanun_teklifi_imza_sahipleri_df = pd.DataFrame([adi_ve_soyadi, partisi, secim_cevresi, ilk_imza]).T.rename({i:header_items[i] for i in range(4)}, axis=1)\n",
    "            kanun_teklifi_imza_sahipleri_df.columns = [\"adi_ve_soyadi\", \"partisi\", \"secim_cevresi\", \"ilk_imza\"]\n",
    "            kanun_teklifi_imza_sahipleri_df[\"kanun_teklifi_id\"] = kanun_teklifi_id\n",
    "            kanun_teklifi_imza_sahipleri_df[\"ilk_imza\"] = kanun_teklifi_imza_sahipleri_df[\"ilk_imza\"].apply(lambda x: True if x == \"İlk İmza Sahibi\" else False)\n",
    "\n",
    "    return kanun_teklifi_bilgileri_df, kanun_teklifi_imza_sahipleri_df"
   ]
  },
  {
   "cell_type": "code",
   "execution_count": 9,
   "id": "c78582ac",
   "metadata": {},
   "outputs": [],
   "source": [
    "if \"kanun_teklifleri\" not in os.listdir():\n",
    "    os.mkdir(\"kanun_teklifleri\")\n",
    "\n",
    "# Create csv files and headers\n",
    "pd.DataFrame(columns=[\"donemi_ve_yasama_yili\",\n",
    "                      \"esas_numarasi\",\n",
    "                      \"baskanliga_gelis_tarihi\",\n",
    "                      \"teklifin_basligi\",\n",
    "                      \"teklifin_ozeti\",\n",
    "                      \"son_durumu\",\n",
    "                      \"teklifin_sonucu\",\n",
    "                      \"kanun_teklifi_id\"]).to_csv(f\"kanun_teklifleri/kanun_teklifleri.csv\",\n",
    "                                                   mode=\"w\", index=False)\n",
    "\n",
    "pd.DataFrame(columns=[\"adi_ve_soyadi\",\n",
    "                      \"partisi\",\n",
    "                      \"secim_cevresi\",\n",
    "                      \"ilk_imza\",\n",
    "                      \"kanun_teklifi_id\"]).to_csv(f\"kanun_teklifleri/kanun_teklifi_imza_sahipleri.csv\",\n",
    "                                                   mode=\"w\", index=False)"
   ]
  },
  {
   "cell_type": "code",
   "execution_count": 10,
   "id": "11441a13",
   "metadata": {},
   "outputs": [
    {
     "name": "stdout",
     "output_type": "stream",
     "text": [
      "0/12437 | 0.00%\n",
      "500/12437 | 4.02%\n",
      "1000/12437 | 8.04%\n",
      "1500/12437 | 12.06%\n",
      "2000/12437 | 16.08%\n",
      "2500/12437 | 20.10%\n",
      "3000/12437 | 24.12%\n",
      "3500/12437 | 28.14%\n",
      "4000/12437 | 32.16%\n",
      "4500/12437 | 36.18%\n",
      "5000/12437 | 40.20%\n",
      "5500/12437 | 44.22%\n",
      "6000/12437 | 48.24%\n",
      "6500/12437 | 52.26%\n",
      "7000/12437 | 56.28%\n",
      "7500/12437 | 60.30%\n",
      "8000/12437 | 64.32%\n",
      "8500/12437 | 68.34%\n",
      "9000/12437 | 72.36%\n",
      "9500/12437 | 76.38%\n",
      "10000/12437 | 80.41%\n",
      "10500/12437 | 84.43%\n",
      "11000/12437 | 88.45%\n",
      "11500/12437 | 92.47%\n",
      "12000/12437 | 96.49%\n",
      "12437/12437 | 100.00%\n"
     ]
    }
   ],
   "source": [
    "# Write to csv files\n",
    "for i, url in enumerate(urls):\n",
    "    if i % 500 == 0:\n",
    "        print(f\"{i}/{len(urls)} | {(i)/len(urls)*100:.2f}%\")\n",
    "    kanun_teklifi, kanun_teklifi_imza_sahipleri = get_tables(url)\n",
    "    kanun_teklifi.to_csv(f\"kanun_teklifleri/kanun_teklifleri.csv\", mode=\"a+\", index=False, header=False)\n",
    "    kanun_teklifi_imza_sahipleri.to_csv(f\"kanun_teklifleri/kanun_teklifi_imza_sahipleri.csv\", mode=\"a+\", index=False, header=False)\n",
    "print(f\"{len(urls)}/{len(urls)} | {(len(urls))/len(urls)*100:.2f}%\")"
   ]
  },
  {
   "cell_type": "code",
   "execution_count": 11,
   "id": "0c5b8328",
   "metadata": {},
   "outputs": [],
   "source": [
    "driver.quit()"
   ]
  }
 ],
 "metadata": {
  "kernelspec": {
   "display_name": "Python 3 (ipykernel)",
   "language": "python",
   "name": "python3"
  },
  "language_info": {
   "codemirror_mode": {
    "name": "ipython",
    "version": 3
   },
   "file_extension": ".py",
   "mimetype": "text/x-python",
   "name": "python",
   "nbconvert_exporter": "python",
   "pygments_lexer": "ipython3",
   "version": "3.9.7"
  }
 },
 "nbformat": 4,
 "nbformat_minor": 5
}
