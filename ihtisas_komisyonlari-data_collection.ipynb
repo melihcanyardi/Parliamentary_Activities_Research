{
 "cells": [
  {
   "cell_type": "markdown",
   "id": "bebe7a1a",
   "metadata": {},
   "source": [
    "# İhtisas Komisyonları - Data Collection"
   ]
  },
  {
   "cell_type": "code",
   "execution_count": 1,
   "id": "90646058",
   "metadata": {},
   "outputs": [],
   "source": [
    "from selenium import webdriver\n",
    "from selenium.webdriver.common.by import By\n",
    "from selenium.webdriver.support.ui import Select\n",
    "from selenium.common.exceptions import NoSuchElementException\n",
    "\n",
    "import pandas as pd\n",
    "import time\n",
    "import os"
   ]
  },
  {
   "cell_type": "code",
   "execution_count": 2,
   "id": "5fc6c263",
   "metadata": {},
   "outputs": [],
   "source": [
    "driver = webdriver.Chrome()\n",
    "driver.implicitly_wait(30)"
   ]
  },
  {
   "cell_type": "markdown",
   "id": "dc4283e1",
   "metadata": {},
   "source": [
    "## İhtisas Komisyonları\n",
    "\n",
    "- source_page: https://www.tbmm.gov.tr/ihtisas-komisyonlari/Liste"
   ]
  },
  {
   "cell_type": "code",
   "execution_count": 3,
   "id": "d7fa290c",
   "metadata": {},
   "outputs": [],
   "source": [
    "def get_komisyonlar(source_page):\n",
    "\n",
    "    # Open source page\n",
    "    driver.get(source_page)\n",
    "    \n",
    "    komisyon_tags = driver.find_element(By.CLASS_NAME, \"col-md-12\").find_element(By.TAG_NAME, \"ul\").find_elements(By.TAG_NAME, \"li\")\n",
    "    \n",
    "    komisyonlar = []\n",
    "    urls = []\n",
    "    \n",
    "    for komisyon in komisyon_tags:\n",
    "        komisyonlar.append(komisyon.text)\n",
    "        urls.append(komisyon.find_element(By.TAG_NAME, \"a\").get_attribute(\"href\"))\n",
    "        \n",
    "    df = pd.concat([pd.Series(komisyonlar, name=\"komisyon_adi\"), pd.Series(urls, name=\"komisyon_url\")], axis=1)\n",
    "    \n",
    "    return df"
   ]
  },
  {
   "cell_type": "code",
   "execution_count": 4,
   "id": "c5499395",
   "metadata": {},
   "outputs": [],
   "source": [
    "source_page = \"https://www.tbmm.gov.tr/ihtisas-komisyonlari/Liste\""
   ]
  },
  {
   "cell_type": "code",
   "execution_count": 5,
   "id": "0123044e",
   "metadata": {},
   "outputs": [],
   "source": [
    "komisyonlar_df = get_komisyonlar(source_page)"
   ]
  },
  {
   "cell_type": "code",
   "execution_count": 6,
   "id": "76ab1415",
   "metadata": {},
   "outputs": [],
   "source": [
    "def get_uye_url(komisyon_url):\n",
    "    \n",
    "    driver.get(komisyon_url)\n",
    "    try:\n",
    "        uye_url = driver.find_element(By.CLASS_NAME, \"menu\").find_element(By.TAG_NAME, \"ul\").find_element(By.LINK_TEXT, \"Komisyon Üyeleri\").get_attribute(\"href\")\n",
    "    except:\n",
    "        uye_url = driver.find_element(By.CLASS_NAME, \"blog_right_sidebar\").find_element(By.TAG_NAME, \"aside\").find_element(By.LINK_TEXT, \"Komisyon Üyeleri\").get_attribute(\"href\")\n",
    "    return uye_url"
   ]
  },
  {
   "cell_type": "code",
   "execution_count": 7,
   "id": "63baf4db",
   "metadata": {},
   "outputs": [],
   "source": [
    "komisyonlar_df[\"uye_url\"] = komisyonlar_df[\"komisyon_url\"].apply(get_uye_url)\n",
    "komisyonlar_df[\"komisyon_id\"] = list(range(1, len(komisyonlar_df)+1))"
   ]
  },
  {
   "cell_type": "code",
   "execution_count": 8,
   "id": "635eec55",
   "metadata": {},
   "outputs": [],
   "source": [
    "if \"ihtisas_komisyonlari\" not in os.listdir():\n",
    "    os.mkdir(\"ihtisas_komisyonlari\")\n",
    "\n",
    "komisyonlar_df.to_csv(\"ihtisas_komisyonlari/ihtisas_komisyonlari.csv\", index=False)"
   ]
  },
  {
   "cell_type": "code",
   "execution_count": 9,
   "id": "2e23a90d",
   "metadata": {
    "scrolled": true
   },
   "outputs": [],
   "source": [
    "# Create urls folder if not exists\n",
    "if \"urls\" not in os.listdir():\n",
    "    os.mkdir(\"urls\")\n",
    "\n",
    "# Write urls to txt file\n",
    "with open(\"urls/ihtisas_komisyonlari_urls.txt\", \"a+\") as f:\n",
    "    for i in range(len(komisyonlar_df)):\n",
    "        f.write(f\"{komisyonlar_df.loc[i, 'uye_url']}\\n\")"
   ]
  },
  {
   "cell_type": "code",
   "execution_count": 10,
   "id": "7ef3d733",
   "metadata": {},
   "outputs": [],
   "source": [
    "# Read urls from txt file\n",
    "with open(\"urls/ihtisas_komisyonlari_urls.txt\", \"r\") as f:\n",
    "    urls = [url.strip() for url in f.readlines()]"
   ]
  },
  {
   "cell_type": "code",
   "execution_count": 11,
   "id": "6c3cb962",
   "metadata": {},
   "outputs": [],
   "source": [
    "def get_uyeler(url):\n",
    "    \n",
    "    driver.get(url)\n",
    "    \n",
    "    uyeler = pd.DataFrame(columns=[\"adi_ve_soyadi\", \"unvani\", \"sehir\",\n",
    "                                   \"iletisim_bilgileri\", \"parti_amblem_url\", \"ozgecmis_url\"])\n",
    "    \n",
    "    rows = driver.find_element(By.XPATH, \"\"\"/html/body/div[2]/div/div/div[1]/div/div/div\"\"\").find_elements(By.CLASS_NAME, \"col-md-9\")\n",
    "    \n",
    "    for i, row in enumerate(rows):\n",
    "        sections = row.find_elements(By.CLASS_NAME, \"row\")\n",
    "        \n",
    "        adi_ve_soyadi = sections[0].text.split(\"\\n\")[0]\n",
    "        unvani = sections[0].text.split(\"\\n\")[1]\n",
    "        sehir = sections[0].text.split(\"\\n\")[2]\n",
    "        iletisim_bilgileri = sections[1].text\n",
    "        parti_amblem_url = sections[2].find_element(By.TAG_NAME, \"img\").get_attribute(\"src\")\n",
    "        ozgecmis_url = sections[3].find_element(By.TAG_NAME, \"a\").get_attribute(\"href\")\n",
    "        \n",
    "        uye = pd.Series([adi_ve_soyadi, unvani, sehir,\n",
    "                         iletisim_bilgileri, parti_amblem_url, ozgecmis_url],\n",
    "                        index=[\"adi_ve_soyadi\", \"unvani\", \"sehir\",\n",
    "                               \"iletisim_bilgileri\", \"parti_amblem_url\", \"ozgecmis_url\"])\n",
    "        \n",
    "        uyeler = uyeler.append(uye, ignore_index=True)\n",
    "        \n",
    "    uyeler = uyeler.reset_index(drop=True)\n",
    "        \n",
    "    return uyeler"
   ]
  },
  {
   "cell_type": "code",
   "execution_count": 12,
   "id": "eb835d61",
   "metadata": {},
   "outputs": [
    {
     "name": "stdout",
     "output_type": "stream",
     "text": [
      "0/19 | 0.00%\n",
      "5/19 | 26.32%\n",
      "10/19 | 52.63%\n",
      "15/19 | 78.95%\n",
      "19/19 | 100.00%\n"
     ]
    }
   ],
   "source": [
    "ihtisas_komisyonlari_uyeler = pd.DataFrame(columns=[\"adi_ve_soyadi\", \"unvani\", \"sehir\",\n",
    "                                   \"iletisim_bilgileri\", \"parti_amblem_url\", \"ozgecmis_url\", \"komisyon_id\"])\n",
    "\n",
    "for i in range(len(komisyonlar_df)):\n",
    "    if i % 5 == 0:\n",
    "        print(f\"{i}/{len(komisyonlar_df)} | {i/len(komisyonlar_df)*100:.2f}%\")\n",
    "    uyeler = get_uyeler(komisyonlar_df.loc[i, \"uye_url\"])\n",
    "    uyeler[\"komisyon_id\"] = komisyonlar_df.loc[i, \"komisyon_id\"]\n",
    "    ihtisas_komisyonlari_uyeler = ihtisas_komisyonlari_uyeler.append(uyeler, ignore_index=True)\n",
    "print(f\"{len(komisyonlar_df)}/{len(komisyonlar_df)} | {len(komisyonlar_df)/len(komisyonlar_df)*100:.2f}%\")"
   ]
  },
  {
   "cell_type": "code",
   "execution_count": 13,
   "id": "a539be0b",
   "metadata": {},
   "outputs": [],
   "source": [
    "def parti_amblem_converter(amblem_url):\n",
    "    return_val = \"\"\n",
    "    \n",
    "    if \"YPK29\" in amblem_url:\n",
    "        return_val = \"ADALET VE KALKINMA PARTİSİ\"\n",
    "    elif \"YPK1\" in amblem_url:\n",
    "        return_val = \"CUMHURİYET HALK PARTİSİ\"\n",
    "    elif \"YPK74\" in amblem_url:\n",
    "        return_val = \"HALKLARIN DEMOKRATİK PARTİSİ\"\n",
    "    elif \"YPK2\" in amblem_url:\n",
    "        return_val = \"MİLLİYETÇİ HAREKET PARTİSİ\"\n",
    "    elif \"YPK81\" in amblem_url:\n",
    "        return_val = \"İYİ PARTİ\"\n",
    "    elif \"YPK13\" in amblem_url:\n",
    "        return_val = \"TÜRKİYE İŞÇİ PARTİSİ\"\n",
    "    elif \"YPK75\" in amblem_url:\n",
    "        return_val = \"DEMOKRATİK BÖLGELER PARTİSİ\"\n",
    "        \n",
    "    return return_val"
   ]
  },
  {
   "cell_type": "code",
   "execution_count": 14,
   "id": "323473e2",
   "metadata": {},
   "outputs": [],
   "source": [
    "ihtisas_komisyonlari_uyeler[\"partisi\"] = ihtisas_komisyonlari_uyeler[\"parti_amblem_url\"].apply(parti_amblem_converter)\n",
    "ihtisas_komisyonlari_uyeler[\"secim_cevresi\"] = ihtisas_komisyonlari_uyeler[\"sehir\"].apply(lambda x: x.split()[0].replace(\"I\", \"ı\").capitalize())"
   ]
  },
  {
   "cell_type": "code",
   "execution_count": 15,
   "id": "60af860f",
   "metadata": {},
   "outputs": [],
   "source": [
    "ihtisas_komisyonlari_uyeler.to_csv(\"ihtisas_komisyonlari/ihtisas_komisyonlari_uyeler.csv\", index=False)"
   ]
  }
 ],
 "metadata": {
  "kernelspec": {
   "display_name": "Python 3 (ipykernel)",
   "language": "python",
   "name": "python3"
  },
  "language_info": {
   "codemirror_mode": {
    "name": "ipython",
    "version": 3
   },
   "file_extension": ".py",
   "mimetype": "text/x-python",
   "name": "python",
   "nbconvert_exporter": "python",
   "pygments_lexer": "ipython3",
   "version": "3.9.7"
  }
 },
 "nbformat": 4,
 "nbformat_minor": 5
}
