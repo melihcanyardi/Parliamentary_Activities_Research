{
 "cells": [
  {
   "cell_type": "markdown",
   "id": "bebe7a1a",
   "metadata": {},
   "source": [
    "# Gensoru - Data Collection"
   ]
  },
  {
   "cell_type": "code",
   "execution_count": 1,
   "id": "90646058",
   "metadata": {},
   "outputs": [],
   "source": [
    "from selenium import webdriver\n",
    "from selenium.webdriver.common.by import By\n",
    "from selenium.webdriver.support.ui import Select\n",
    "from selenium.common.exceptions import NoSuchElementException\n",
    "\n",
    "import pandas as pd\n",
    "import time\n",
    "import os"
   ]
  },
  {
   "cell_type": "code",
   "execution_count": 2,
   "id": "5fc6c263",
   "metadata": {},
   "outputs": [],
   "source": [
    "driver = webdriver.Chrome()\n",
    "driver.implicitly_wait(30)"
   ]
  },
  {
   "cell_type": "markdown",
   "id": "dc4283e1",
   "metadata": {},
   "source": [
    "## Gensoru\n",
    "\n",
    "- source_page: https://www.tbmm.gov.tr/Denetim/Gensoru-Onergeleri\n",
    "- donem_values:\n",
    "    - 22. Dönem Tüm Yasama Yılları: **221, 222, 223, 224, 225**\n",
    "    - 23. Dönem Tüm Yasama Yılları: **231, 232, 234, 235**\n",
    "    - 24. Dönem Tüm Yasama Yılları: **241, 242, 243, 244, 245**\n",
    "    - 25. Dönem Tüm Yasama Yılları: **251, 252**\n",
    "    - 26. Dönem Tüm Yasama Yılları: **261, 262, 263**\n",
    "- select_donem (Dönemi ve Yasama Yılı) XPATH: //*[@id=\"GensoruDonemYasamaYili\"]\n",
    "- input_search (Sorguyu Başlat) XPATH: //*[@id=\"main-area\"]/form/div[8]/div/input[2]"
   ]
  },
  {
   "cell_type": "code",
   "execution_count": 3,
   "id": "d7fa290c",
   "metadata": {},
   "outputs": [],
   "source": [
    "def get_sonuc_page(source_page, donem):\n",
    "\n",
    "    # Open source page\n",
    "    driver.get(source_page)\n",
    "    \n",
    "    # Select Dönem\n",
    "    select_donem = Select(driver.find_element(By.XPATH, \"\"\"//*[@id=\"GensoruDonemYasamaYili\"]\"\"\"))\n",
    "    donem = str(donem)\n",
    "    select_donem.select_by_value(donem)\n",
    "    \n",
    "    # Find \"Sorguyu Başlat\" button\n",
    "    input_search = driver.find_element(By.XPATH, \"\"\"//*[@id=\"main-area\"]/form/div[8]/div/input[2]\"\"\")\n",
    "\n",
    "    # Click \"Sorguyu Başlat\" button\n",
    "    input_search.click()\n",
    "    \n",
    "    # Get total page size\n",
    "    pagination = driver.find_element(By.XPATH, \"\"\"//*[@id=\"dataTable_paginate\"]/ul\"\"\")\n",
    "    pagination_elements = pagination.find_elements(By.TAG_NAME, \"li\")\n",
    "    \n",
    "    # if there are no records:\n",
    "    if len(pagination_elements) == 2:\n",
    "        page_size = 0\n",
    "    # if there is one page\n",
    "    elif len(pagination_elements) == 3:\n",
    "        page_size = 1\n",
    "    # if there are two pages:\n",
    "    elif len(pagination_elements) == 4:\n",
    "        page_size = 2\n",
    "    # if there are more than two pages\n",
    "    else:\n",
    "        page_size = int(pagination_elements[-2].text)\n",
    "    \n",
    "    return page_size"
   ]
  },
  {
   "cell_type": "code",
   "execution_count": 4,
   "id": "76ab1415",
   "metadata": {},
   "outputs": [],
   "source": [
    "def collect_urls():\n",
    "    \n",
    "    urls = []\n",
    "    \n",
    "    # Find table\n",
    "    table = driver.find_element(By.XPATH, \"\"\"//*[@id=\"dataTable\"]/tbody\"\"\")\n",
    "    \n",
    "    # Get rows of table\n",
    "    rows = None\n",
    "    while rows is None:\n",
    "        try:\n",
    "            rows = table.find_elements(By.TAG_NAME, \"tr\")\n",
    "        except:\n",
    "            pass\n",
    "        \n",
    "    for i, row in enumerate(rows):\n",
    "        url = row.find_elements(By.TAG_NAME, \"td\")[3].find_elements(By.TAG_NAME, \"div\")[3].find_element(By.TAG_NAME, \"a\").get_attribute(\"href\")\n",
    "        urls.append(url)\n",
    "        \n",
    "    return urls"
   ]
  },
  {
   "cell_type": "code",
   "execution_count": 5,
   "id": "c5499395",
   "metadata": {},
   "outputs": [],
   "source": [
    "donemler = [221, 222, 223, 224, 225, 231, 232, 234, 235, 241, 242, 243, 244, 245, 251, 252, 261, 262, 263]\n",
    "source_page = \"https://www.tbmm.gov.tr/Denetim/Gensoru-Onergeleri\""
   ]
  },
  {
   "cell_type": "code",
   "execution_count": 6,
   "id": "2e23a90d",
   "metadata": {
    "scrolled": true
   },
   "outputs": [
    {
     "name": "stdout",
     "output_type": "stream",
     "text": [
      "Dönem: 221 | Page Size: 0 ... Completed!\n",
      "Dönem: 222 | Page Size: 1 ... Completed!\n",
      "Dönem: 223 | Page Size: 1 ... Completed!\n",
      "Dönem: 224 | Page Size: 1 ... Completed!\n",
      "Dönem: 225 | Page Size: 1 ... Completed!\n",
      "Dönem: 231 | Page Size: 0 ... Completed!\n",
      "Dönem: 232 | Page Size: 1 ... Completed!\n",
      "Dönem: 234 | Page Size: 1 ... Completed!\n",
      "Dönem: 235 | Page Size: 1 ... Completed!\n",
      "Dönem: 241 | Page Size: 0 ... Completed!\n",
      "Dönem: 242 | Page Size: 1 ... Completed!\n",
      "Dönem: 243 | Page Size: 1 ... Completed!\n",
      "Dönem: 244 | Page Size: 1 ... Completed!\n",
      "Dönem: 245 | Page Size: 1 ... Completed!\n",
      "Dönem: 251 | Page Size: 0 ... Completed!\n",
      "Dönem: 252 | Page Size: 0 ... Completed!\n",
      "Dönem: 261 | Page Size: 1 ... Completed!\n",
      "Dönem: 262 | Page Size: 1 ... Completed!\n",
      "Dönem: 263 | Page Size: 1 ... Completed!\n"
     ]
    }
   ],
   "source": [
    "# Create urls folder if not exists\n",
    "if \"urls\" not in os.listdir():\n",
    "    os.mkdir(\"urls\")\n",
    "\n",
    "# Write urls to txt file\n",
    "with open(\"urls/gensoru_urls.txt\", \"a+\") as f:\n",
    "    for donem in donemler:\n",
    "        # Get sonuc page & page size\n",
    "        page_size = get_sonuc_page(source_page, donem)\n",
    "        print(f\"Dönem: {donem} | Page Size: {page_size} ... \", end=\"\")\n",
    "    \n",
    "        page = 1\n",
    "        \n",
    "        while page <= page_size:\n",
    "            try:\n",
    "                time.sleep(1)\n",
    "                # Collect urls in the page\n",
    "                for url in collect_urls():\n",
    "                    f.write(f\"{url}\\n\")\n",
    "                \n",
    "                # Find \"Sonraki\" button\n",
    "                next_button = driver.find_element(By.XPATH, \"\"\"//*[@id=\"dataTable_next\"]\"\"\")\n",
    "                \n",
    "                # Click \"Sonraki\" button\n",
    "                next_button.click()\n",
    "                \n",
    "                page += 1\n",
    "                \n",
    "            except:\n",
    "                time.sleep(5)\n",
    "                continue\n",
    "        print(\"Completed!\")"
   ]
  },
  {
   "cell_type": "code",
   "execution_count": 7,
   "id": "7ef3d733",
   "metadata": {},
   "outputs": [],
   "source": [
    "# Read urls from txt file\n",
    "with open(\"urls/gensoru_urls.txt\", \"r\") as f:\n",
    "    urls = [url.strip() for url in f.readlines()]"
   ]
  },
  {
   "cell_type": "code",
   "execution_count": 8,
   "id": "be0236ca",
   "metadata": {},
   "outputs": [],
   "source": [
    "def get_tables(url):\n",
    "    \n",
    "    driver.get(url)\n",
    "    \n",
    "    main_area = driver.find_element(By.XPATH, \"\"\"//*[@id=\"main-area\"]\"\"\")\n",
    "    \n",
    "    gensoru_bilgileri_df = pd.DataFrame()\n",
    "    gensoru_imza_sahipleri_df = pd.DataFrame()\n",
    "    \n",
    "    \n",
    "    for i in range(len(main_area.find_elements(By.TAG_NAME, \"div\"))):\n",
    "        if main_area.find_elements(By.TAG_NAME, \"span\")[i].text == \"Gensoru Önerge Bilgileri\":\n",
    "            gensoru_bilgileri = main_area.find_elements(By.TAG_NAME, \"div\")[i]\n",
    "            gensoru_bilgileri_tr_tags = gensoru_bilgileri.find_elements(By.TAG_NAME, \"tr\")\n",
    "            gensoru_bilgileri_df = pd.DataFrame(pd.Series({gensoru_bilgileri_tr_tags[i].find_elements(By.TAG_NAME, \"td\")[0].text: gensoru_bilgileri_tr_tags[i].find_elements(By.TAG_NAME, \"td\")[1].text for i in range(1, len(gensoru_bilgileri_tr_tags))})).T\n",
    "            gensoru_id = ''.join(gensoru_bilgileri_df.iloc[0, 0].split(\" / \") + gensoru_bilgileri_df.iloc[0, 1].split(\" / \"))\n",
    "            gensoru_bilgileri_df.columns = [\"donemi_ve_yasama_yili\", \"esas_numarasi\", \"baskanliga_gelis_tarihi\", \"onergenin_ozeti\", \"okutuldugu_birlesim\", \"ongorusmelerin_yapildigi_birlesim\", \"son_durumu\", \"onergenin_muhatabi\", \"onerge_sahibi\"]\n",
    "            gensoru_bilgileri_df[\"gensoru_id\"] = gensoru_id\n",
    "            \n",
    "        if main_area.find_elements(By.TAG_NAME, \"span\")[i].text == \"İmza Sahibi Milletvekilleri\":\n",
    "            gensoru_imza_sahipleri = main_area.find_elements(By.TAG_NAME, \"div\")[i]\n",
    "            gensoru_imza_sahipleri_tr_tags = gensoru_imza_sahipleri.find_elements(By.TAG_NAME, \"tr\")\n",
    "\n",
    "            header = gensoru_imza_sahipleri_tr_tags[0].find_elements(By.TAG_NAME, \"th\")\n",
    "            header_items = [item.text for item in header]\n",
    "            header_items[-1] = \"İlk İmza\"\n",
    "\n",
    "            adi_ve_soyadi = [gensoru_imza_sahipleri_tr_tags[i].find_elements(By.TAG_NAME, \"td\")[0].text for i in range(1, len(gensoru_imza_sahipleri_tr_tags))]\n",
    "            partisi = [gensoru_imza_sahipleri_tr_tags[i].find_elements(By.TAG_NAME, \"td\")[1].text for i in range(1, len(gensoru_imza_sahipleri_tr_tags))]\n",
    "            secim_cevresi = [gensoru_imza_sahipleri_tr_tags[i].find_elements(By.TAG_NAME, \"td\")[2].text for i in range(1, len(gensoru_imza_sahipleri_tr_tags))]\n",
    "            ilk_imza = [gensoru_imza_sahipleri_tr_tags[i].find_elements(By.TAG_NAME, \"td\")[3].text for i in range(1, len(gensoru_imza_sahipleri_tr_tags))]\n",
    "\n",
    "            gensoru_imza_sahipleri_df = pd.DataFrame([adi_ve_soyadi, partisi, secim_cevresi, ilk_imza]).T.rename({i:header_items[i] for i in range(4)}, axis=1)\n",
    "            gensoru_imza_sahipleri_df.columns = [\"adi_ve_soyadi\", \"partisi\", \"secim_cevresi\", \"ilk_imza\"]\n",
    "            gensoru_imza_sahipleri_df[\"gensoru_id\"] = gensoru_id\n",
    "            gensoru_imza_sahipleri_df[\"ilk_imza\"] = gensoru_imza_sahipleri_df[\"ilk_imza\"].apply(lambda x: True if x == \"İlk İmza Sahibi\" else False)\n",
    "\n",
    "    return gensoru_bilgileri_df, gensoru_imza_sahipleri_df"
   ]
  },
  {
   "cell_type": "code",
   "execution_count": 9,
   "id": "c78582ac",
   "metadata": {},
   "outputs": [],
   "source": [
    "if \"gensoru\" not in os.listdir():\n",
    "    os.mkdir(\"gensoru\")\n",
    "\n",
    "# Create csv files and headers\n",
    "pd.DataFrame(columns=[\"donemi_ve_yasama_yili\",\n",
    "                      \"esas_numarasi\",\n",
    "                      \"baskanliga_gelis_tarihi\",\n",
    "                      \"onergenin_ozeti\",\n",
    "                      \"okutuldugu_birlesim\",\n",
    "                      \"ongorusmelerin_yapildigi_birlesim\",\n",
    "                      \"son_durumu\",\n",
    "                      \"onergenin_muhatabi\",\n",
    "                      \"onerge_sahibi\",\n",
    "                      \"gensoru_id\"]).to_csv(f\"gensoru/gensoru.csv\",\n",
    "                                                   mode=\"w\", index=False)\n",
    "\n",
    "pd.DataFrame(columns=[\"adi_ve_soyadi\",\n",
    "                      \"partisi\",\n",
    "                      \"secim_cevresi\",\n",
    "                      \"ilk_imza\",\n",
    "                      \"gensoru_id\"]).to_csv(f\"gensoru/gensoru_imza_sahipleri.csv\",\n",
    "                                                   mode=\"w\", index=False)"
   ]
  },
  {
   "cell_type": "code",
   "execution_count": 10,
   "id": "11441a13",
   "metadata": {},
   "outputs": [
    {
     "name": "stdout",
     "output_type": "stream",
     "text": [
      "0/90 | 0.00%\n",
      "10/90 | 11.11%\n",
      "20/90 | 22.22%\n",
      "30/90 | 33.33%\n",
      "40/90 | 44.44%\n",
      "50/90 | 55.56%\n",
      "60/90 | 66.67%\n",
      "70/90 | 77.78%\n",
      "80/90 | 88.89%\n",
      "90/90 | 100.00%\n"
     ]
    }
   ],
   "source": [
    "# Write to csv files\n",
    "for i, url in enumerate(urls):\n",
    "    if i % 10 == 0:\n",
    "        print(f\"{i}/{len(urls)} | {(i)/len(urls)*100:.2f}%\")\n",
    "    gensoru, gensoru_imza_sahipleri = get_tables(url)\n",
    "    gensoru.to_csv(f\"gensoru/gensoru.csv\", mode=\"a+\", index=False, header=False)\n",
    "    gensoru_imza_sahipleri.to_csv(f\"gensoru/gensoru_imza_sahipleri.csv\", mode=\"a+\", index=False, header=False)\n",
    "print(f\"{len(urls)}/{len(urls)} | {(len(urls))/len(urls)*100:.2f}%\")"
   ]
  },
  {
   "cell_type": "code",
   "execution_count": 11,
   "id": "739f3cea",
   "metadata": {},
   "outputs": [],
   "source": [
    "driver.quit()"
   ]
  }
 ],
 "metadata": {
  "kernelspec": {
   "display_name": "Python 3 (ipykernel)",
   "language": "python",
   "name": "python3"
  },
  "language_info": {
   "codemirror_mode": {
    "name": "ipython",
    "version": 3
   },
   "file_extension": ".py",
   "mimetype": "text/x-python",
   "name": "python",
   "nbconvert_exporter": "python",
   "pygments_lexer": "ipython3",
   "version": "3.9.7"
  }
 },
 "nbformat": 4,
 "nbformat_minor": 5
}
